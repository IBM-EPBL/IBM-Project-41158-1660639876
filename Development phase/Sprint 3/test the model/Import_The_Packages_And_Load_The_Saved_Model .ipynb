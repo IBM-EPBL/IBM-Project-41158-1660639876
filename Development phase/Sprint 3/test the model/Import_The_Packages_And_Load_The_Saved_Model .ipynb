{
  "nbformat": 4,
  "nbformat_minor": 0,
  "metadata": {
    "colab": {
      "provenance": []
    },
    "kernelspec": {
      "name": "python3",
      "display_name": "Python 3"
    },
    "language_info": {
      "name": "python"
    }
  },
  "cells": [
    {
      "cell_type": "markdown",
      "source": [
        "Team Id: PNT2022TMID10160"
      ],
      "metadata": {
        "id": "BItnpd087Z-u"
      }
    },
    {
      "cell_type": "markdown",
      "source": [
        "##Model Building"
      ],
      "metadata": {
        "id": "Ylab8jWz4a3t"
      }
    },
    {
      "cell_type": "markdown",
      "source": [
        "##Import The Required Model Building Libraries"
      ],
      "metadata": {
        "id": "QsFpDf4v4lLM"
      }
    },
    {
      "cell_type": "code",
      "execution_count": null,
      "metadata": {
        "id": "mQCRUmJZ4UOG"
      },
      "outputs": [],
      "source": [
        "#import imagedatagenerator\n",
        "from keras.preprocessing.image import ImageDataGenerator"
      ]
    },
    {
      "cell_type": "code",
      "source": [
        "#training datagen\n",
        "train_datagen=ImageDataGenerator(rescale=1./255,shear_range=0.2,zoom_range=0.2,horizontal_flip=True)"
      ],
      "metadata": {
        "id": "xerOuoQz4vgd"
      },
      "execution_count": null,
      "outputs": []
    },
    {
      "cell_type": "code",
      "source": [
        "#testing datagen\n",
        "test_datagen=ImageDataGenerator(rescale=1./255)"
      ],
      "metadata": {
        "id": "S3AhZWAu40GV"
      },
      "execution_count": null,
      "outputs": []
    },
    {
      "cell_type": "markdown",
      "source": [
        "##IMPORTING tensorflow"
      ],
      "metadata": {
        "id": "vpFgc681437c"
      }
    },
    {
      "cell_type": "code",
      "source": [
        "import tensorflow as tf\n",
        "import os"
      ],
      "metadata": {
        "id": "mlXdHzUd46Kc"
      },
      "execution_count": null,
      "outputs": []
    },
    {
      "cell_type": "markdown",
      "source": [
        "##Initialize The Model"
      ],
      "metadata": {
        "id": "6wHomyKQ4816"
      }
    },
    {
      "cell_type": "code",
      "source": [
        "#create model\n",
        "from keras.models import Sequential\n",
        "from keras.layers import Dense\n",
        "from keras.layers import Convolution2D\n",
        "from keras.layers import MaxPooling2D\n",
        "from keras.layers import Dropout\n",
        "from keras.layers import Flatten \n",
        "from tensorflow.keras.preprocessing.image import ImageDataGenerator"
      ],
      "metadata": {
        "id": "L_37Cr3a5AZN"
      },
      "execution_count": null,
      "outputs": []
    },
    {
      "cell_type": "code",
      "source": [
        "import numpy as np\n",
        "import matplotlib.pyplot as plt #to view graph in colab itself\n",
        "import IPython.display as display\n",
        "from PIL import Image\n",
        "import pathlib"
      ],
      "metadata": {
        "id": "vRaMx6Sx5D9E"
      },
      "execution_count": null,
      "outputs": []
    },
    {
      "cell_type": "markdown",
      "source": [
        "##Applying ImageDataGenerator to training set"
      ],
      "metadata": {
        "id": "y9zNxxAA5Hkc"
      }
    },
    {
      "cell_type": "code",
      "source": [
        "x_train=train_datagen.flow_from_directory('/content/Dataset/training_set',target_size=(64,64),batch_size=200,\n",
        "                                          class_mode='categorical',color_mode=\"grayscale\")"
      ],
      "metadata": {
        "id": "vp4tv_d35L0t"
      },
      "execution_count": null,
      "outputs": []
    },
    {
      "cell_type": "markdown",
      "source": [
        "##Applying ImageDataGenerator to test set"
      ],
      "metadata": {
        "id": "i0BGUqQ55bH1"
      }
    },
    {
      "cell_type": "code",
      "source": [
        "x_test=test_datagen.flow_from_directory('/content/Dataset/test_set',target_size=(64,64),batch_size=200,\n",
        "                                          class_mode='categorical',color_mode=\"grayscale\")"
      ],
      "metadata": {
        "id": "cQvSDOiF5goe"
      },
      "execution_count": null,
      "outputs": []
    },
    {
      "cell_type": "code",
      "source": [
        "a=len(x_train)\n",
        "b=len(x_test)"
      ],
      "metadata": {
        "id": "aTgghH7T5wts"
      },
      "execution_count": null,
      "outputs": []
    },
    {
      "cell_type": "markdown",
      "source": [
        "Length of training set"
      ],
      "metadata": {
        "id": "4CZeTzQ154Yc"
      }
    },
    {
      "cell_type": "code",
      "source": [
        "print(a)"
      ],
      "metadata": {
        "id": "qUsWAkS-50kM"
      },
      "execution_count": null,
      "outputs": []
    },
    {
      "cell_type": "markdown",
      "source": [
        "Length of test set"
      ],
      "metadata": {
        "id": "Q_Jpr43J6AmU"
      }
    },
    {
      "cell_type": "code",
      "source": [
        "print(b)"
      ],
      "metadata": {
        "id": "GlgdBYZY59Ol"
      },
      "execution_count": null,
      "outputs": []
    },
    {
      "cell_type": "markdown",
      "source": [
        "Add Layers"
      ],
      "metadata": {
        "id": "tfbH2rnD6EpI"
      }
    },
    {
      "cell_type": "code",
      "source": [
        "#create model\n",
        "model=Sequential()"
      ],
      "metadata": {
        "id": "WEHNEfu_6HnY"
      },
      "execution_count": null,
      "outputs": []
    },
    {
      "cell_type": "markdown",
      "source": [
        "Add The Convolution Layer"
      ],
      "metadata": {
        "id": "RO7PShgy6LAI"
      }
    },
    {
      "cell_type": "code",
      "source": [
        "model.add(Convolution2D(32,(3,3),input_shape=(64,64,1),activation='relu'))"
      ],
      "metadata": {
        "id": "vjOhflzp6Uu0"
      },
      "execution_count": null,
      "outputs": []
    },
    {
      "cell_type": "markdown",
      "source": [
        "Add Pooling Layer"
      ],
      "metadata": {
        "id": "Uj9yziOo6Z-U"
      }
    },
    {
      "cell_type": "code",
      "source": [
        "model.add(MaxPooling2D(pool_size=(2,2)))"
      ],
      "metadata": {
        "id": "EzKF2s3X6a-c"
      },
      "execution_count": null,
      "outputs": []
    },
    {
      "cell_type": "markdown",
      "source": [
        "Add The Flatten Layer"
      ],
      "metadata": {
        "id": "Kz4Fd6Zf6ee8"
      }
    },
    {
      "cell_type": "code",
      "source": [
        "model.add(Flatten())"
      ],
      "metadata": {
        "id": "k219ZdFI6hoU"
      },
      "execution_count": null,
      "outputs": []
    },
    {
      "cell_type": "markdown",
      "source": [
        "Adding The Dense Layers"
      ],
      "metadata": {
        "id": "cwgJ5r_D6kt0"
      }
    },
    {
      "cell_type": "code",
      "source": [
        "#1st hidden layer\n",
        "model.add(Dense(units=512,activation='relu'))\n",
        "#2nd hidden layer\n",
        "model.add(Dense(units=261,activation='relu'))"
      ],
      "metadata": {
        "id": "dhm2oP7H6obU"
      },
      "execution_count": null,
      "outputs": []
    },
    {
      "cell_type": "code",
      "source": [
        "#output layer\n",
        "model.add(Dense(units=9,activation='softmax'))"
      ],
      "metadata": {
        "id": "2X8aDSdO6tP8"
      },
      "execution_count": null,
      "outputs": []
    },
    {
      "cell_type": "markdown",
      "source": [
        "Compile The Model"
      ],
      "metadata": {
        "id": "Gc8k-zGN6yeU"
      }
    },
    {
      "cell_type": "code",
      "source": [
        "model.compile(loss='categorical_crossentropy',optimizer='adam',metrics=['accuracy'])"
      ],
      "metadata": {
        "id": "vV5ohbt-60Fc"
      },
      "execution_count": null,
      "outputs": []
    },
    {
      "cell_type": "markdown",
      "source": [
        "Fit The Model"
      ],
      "metadata": {
        "id": "mpOMwVHM621U"
      }
    },
    {
      "cell_type": "code",
      "source": [
        "model.fit_generator(x_train,steps_per_epoch=len(x_train),epochs=10,validation_data=x_test,validation_steps=len(x_test))"
      ],
      "metadata": {
        "id": "9qp0BM9j69EU"
      },
      "execution_count": null,
      "outputs": []
    },
    {
      "cell_type": "markdown",
      "source": [
        "Save The Model"
      ],
      "metadata": {
        "id": "JzhIyZh87DLT"
      }
    },
    {
      "cell_type": "code",
      "source": [
        "model.save('aslpng2.h5')"
      ],
      "metadata": {
        "id": "CKPEu5Yp7Eqr"
      },
      "execution_count": null,
      "outputs": []
    },
    {
      "cell_type": "markdown",
      "source": [
        "Import The Packages And Load The Saved Model"
      ],
      "metadata": {
        "id": "jWs3nQgO7HcL"
      }
    },
    {
      "cell_type": "code",
      "source": [
        "from tensorflow.keras.models import load_model\n",
        "import numpy as np\n",
        "import cv2\n",
        "from tensorflow.keras.preprocessing import image"
      ],
      "metadata": {
        "id": "sQSkzZ1x7KeM"
      },
      "execution_count": null,
      "outputs": []
    },
    {
      "cell_type": "code",
      "source": [
        "#load the model\n",
        "model=load_model('aslpng2.h5')"
      ],
      "metadata": {
        "id": "HDyqOmVr7Nlc"
      },
      "execution_count": null,
      "outputs": []
    },
    {
      "cell_type": "code",
      "source": [
        "img=image.load_img('/content/Dataset/test_set/A/10.png',target_size=(400,500))\n",
        "img"
      ],
      "metadata": {
        "id": "YWKCsrsZ7P_s"
      },
      "execution_count": null,
      "outputs": []
    }
  ]
}